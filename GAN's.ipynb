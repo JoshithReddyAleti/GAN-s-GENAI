# Install BigGAN package if not already installed
#!pip install pytorch-pretrained-biggan

import torch
from pytorch_pretrained_biggan import BigGAN, truncated_noise_sample, one_hot_from_int
from PIL import Image
import numpy as np
import matplotlib.pyplot as plt

# Load pretrained BigGAN model
model = BigGAN.from_pretrained('biggan-deep-256')
model.eval()

# Set class index (207 = golden retriever) and truncation level
class_idx = 207
truncation = 0.4

# Create 4 different images
fig, axes = plt.subplots(1, 4, figsize=(16, 4))
for i in range(4):
    # Generate 1x128 random noise vector and one-hot class vector
    noise_vector = truncated_noise_sample(truncation=truncation, batch_size=1)
    class_vector = one_hot_from_int(class_idx, batch_size=1)

    # Convert to tensors
    noise_vector = torch.from_numpy(noise_vector).to(torch.float32)
    class_vector = torch.from_numpy(class_vector).to(torch.float32)

    # Generate image
    with torch.no_grad():
        output = model(noise_vector, class_vector, truncation)

    # Convert to displayable format
    output = output.squeeze().permute(1, 2, 0).cpu().numpy()
    output = ((output + 1) / 2 * 255).astype(np.uint8)

    # Show image
    axes[i].imshow(output)
    axes[i].axis('off')
    axes[i].set_title(f'Image {i+1}')

plt.suptitle("Generated Images using BigGAN (Class 207)", fontsize=16)
plt.tight_layout()
plt.show()
